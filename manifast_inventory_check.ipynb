{
  "nbformat": 4,
  "nbformat_minor": 0,
  "metadata": {
    "colab": {
      "provenance": []
    },
    "kernelspec": {
      "name": "python3",
      "display_name": "Python 3"
    },
    "language_info": {
      "name": "python"
    }
  },
  "cells": [
    {
      "cell_type": "code",
      "execution_count": 59,
      "metadata": {
        "id": "jNjgAbL3h8cm"
      },
      "outputs": [],
      "source": [
        "## import SQLite\n",
        "import sqlite3\n",
        "## import pandas to for pandas table\n",
        "import pandas as pd\n"
      ]
    },
    {
      "cell_type": "code",
      "source": [
        "## helper function to create SQLite table from the csv document\n",
        "\n",
        "def pd_to_table(dataframe: pd.DataFrame,\n",
        "                table_name: str,\n",
        "                database_name: str) -> None:\n",
        "    ## local logging\n",
        "    import logging\n",
        "    logging.basicConfig(level=logging.INFO,\n",
        "                        format='%(asctime)s %(levelname)s: %(message)s',\n",
        "                        datefmt='%Y-%m-%d %H:%M:%S')\n",
        "\n",
        "    ## merge the columns from the dataframe by \",\"\n",
        "    cols = dataframe.columns\n",
        "    cols_string = ','.join(cols)\n",
        "    val_wildcard_string = ','.join(['?'] * len(cols))\n",
        "\n",
        "    ## connect to the Database file\n",
        "    connection_db = sqlite3.connect(database_name)\n",
        "    cur = connection_db.cursor()\n",
        "    logging.info(f'Database - {database_name} created')\n",
        "\n",
        "    ## create table\n",
        "    sql_command = f'''CREATE TABLE {table_name} ({cols_string});'''\n",
        "    cur.execute(sql_command)\n",
        "    logging.info(f'SQL Table {table_name} created')\n",
        "\n",
        "    ## uplode the dataframe to the table\n",
        "\n",
        "    rows_to_upload = dataframe.to_dict(orient='split')['data']\n",
        "    sql_command = f\"\"\"INSERT INTO {table_name} ({cols_string}) VALUES ({val_wildcard_string});\"\"\"\n",
        "    cur.executemany(sql_command, rows_to_upload)\n",
        "    logging.info(f'{len(rows_to_upload)} rows uploaded to {table_name}')\n",
        "\n",
        "    #Commit the changes and close the connection\n",
        "    connection_db.commit()\n",
        "    connection_db.close()\n",
        "\n",
        "\n",
        "def sql_query_to_pd(sql_query_string: str, db_name: str ='default.db') -> pd.DataFrame:\n",
        "\n",
        "    #Connect to the SQL DB\n",
        "    connection_db = sqlite3.connect(db_name)\n",
        "\n",
        "    #Execute the SQL query\n",
        "    cursor = connection_db.execute(sql_query_string)\n",
        "\n",
        "    #Fetch the data and column names\n",
        "    result_data = cursor.fetchall()\n",
        "    cols = [description[0] for description in cursor.description]\n",
        "\n",
        "    #Close the connection\n",
        "    connection_db.close()\n",
        "\n",
        "    #Return as a dataframe\n",
        "    return pd.DataFrame(result_data, columns=cols)"
      ],
      "metadata": {
        "id": "sNNEZjF9rIQh"
      },
      "execution_count": 60,
      "outputs": []
    },
    {
      "cell_type": "code",
      "source": [
        "PL_df = pd.read_csv('Packing_List.csv')\n",
        "\n",
        "PL_df = PL_df.dropna(how='all')\n",
        "\n",
        "Lulu_df = pd.read_csv('lululemon.csv')\n",
        "\n",
        "Lulu_df = Lulu_df.dropna(how='all')"
      ],
      "metadata": {
        "id": "w7_wExRFx9jw"
      },
      "execution_count": 61,
      "outputs": []
    },
    {
      "cell_type": "code",
      "source": [
        "## select desired columns from the dataframe\n",
        "\n",
        "lulu_list = Lulu_df[[\"UniqeID\", \"Style-Option\", \"Style Description\", \"Size\", \"Shipped Amount\"]]\n",
        "\n",
        "lulu_list.rename(columns = {'Style Description':'Style_Description',\n",
        "                            \"Shipped Amount\":\"Shipped_Amount\",\n",
        "                            \"UniqeID\": \"UniqueID\",\n",
        "                            \"Style-Option\":\"Style_Option\"}, inplace = True)\n",
        "\n",
        "##check lulu list\n",
        "lulu_list.head()"
      ],
      "metadata": {
        "id": "YLfuyFKo1L_1"
      },
      "execution_count": null,
      "outputs": []
    },
    {
      "cell_type": "code",
      "source": [
        "## select desired columns from the dataframe\n",
        "pack_list = PL_df[[\"Unique Row ID\", \"Item Description\", \"Model No.\", \"Serial No. / Other item info\", \"Quantity\"]]\n",
        "\n",
        "\n",
        "pack_list.rename(columns = {'Unique Row ID':'UniqueRowID',\n",
        "                            \"Item Description\":\"ItemDescription\",\n",
        "                            \"Model No.\": \"ModelNo\",\n",
        "                            \"Serial No. / Other item info\": \"SerialNo\",}, inplace = True)\n",
        "\n",
        "pack_list"
      ],
      "metadata": {
        "id": "KsIJUVIh2cPU"
      },
      "execution_count": null,
      "outputs": []
    },
    {
      "cell_type": "code",
      "source": [
        "##drop table if anything happenes, then recreate the table\n",
        "conn = sqlite3.connect(\"default.db\")\n",
        "cur = conn.cursor()\n",
        "## change the table name to drop if we already created this table in the database\n",
        "cur.execute(\"DROP TABLE AMOUNT_INVENTORY\")"
      ],
      "metadata": {
        "id": "RuAdw38A6BMd"
      },
      "execution_count": null,
      "outputs": []
    },
    {
      "cell_type": "code",
      "source": [
        "pd_to_table(pack_list,\n",
        "            table_name='INVENTORY',\n",
        "            database_name='default.db')\n",
        "\n"
      ],
      "metadata": {
        "id": "EE2eaonB2-K-"
      },
      "execution_count": 65,
      "outputs": []
    },
    {
      "cell_type": "code",
      "source": [
        "pd_to_table(lulu_list,\n",
        "            table_name='LULULEMON',\n",
        "            database_name='default.db')"
      ],
      "metadata": {
        "id": "CUHOCtq_5MaK"
      },
      "execution_count": 66,
      "outputs": []
    },
    {
      "cell_type": "code",
      "source": [
        "##write SQL command to execute the commands\n",
        "sql_query_string = \"\"\"\n",
        "    SELECT UniqueRowID, SUM(Quantity) as total_Quantity, ItemDescription, ModelNo, SerialNo\n",
        "    FROM INVENTORY\n",
        "    GROUP BY ModelNo, SerialNo\n",
        "\"\"\"\n",
        "\n",
        "# Step 4: Exectue the SQL query\n",
        "AMOUNT_INVENTORY = sql_query_to_pd(sql_query_string, db_name='default.db')\n",
        "AMOUNT_INVENTORY\n"
      ],
      "metadata": {
        "id": "Kbq6sEuu61fD"
      },
      "execution_count": null,
      "outputs": []
    },
    {
      "cell_type": "code",
      "source": [
        "pd_to_table(AMOUNT_INVENTORY,\n",
        "            table_name='COUNT_INVENTORY',\n",
        "            database_name='default.db')\n"
      ],
      "metadata": {
        "id": "dojQ5c8vHDow"
      },
      "execution_count": 68,
      "outputs": []
    },
    {
      "cell_type": "code",
      "source": [
        "sql_query_string = \"\"\"\n",
        "    SELECT *\n",
        "    FROM COUNT_INVENTORY\n",
        "    JOIN LULULEMON\n",
        "    ON SerialNo = Style_Option\n",
        "    AND ModelNo = Size\n",
        "\"\"\""
      ],
      "metadata": {
        "id": "JTTk4iUpHQaq"
      },
      "execution_count": 69,
      "outputs": []
    },
    {
      "cell_type": "code",
      "source": [
        "result = sql_query_to_pd(sql_query_string, db_name='default.db')\n",
        "result"
      ],
      "metadata": {
        "id": "1qmDb7xqMFcN"
      },
      "execution_count": null,
      "outputs": []
    },
    {
      "cell_type": "code",
      "source": [
        "final_table = result[[\"total_Quantity\", \"Shipped_Amount\",\"SerialNo\",\"Size\",\"Style_Option\", \"Style_Description\"]]"
      ],
      "metadata": {
        "id": "YdTtyliYMXT3"
      },
      "execution_count": 71,
      "outputs": []
    },
    {
      "cell_type": "code",
      "source": [
        "from google.colab import drive\n",
        "drive.mount('drive')\n",
        "\n",
        "final_table.to_csv('/content/drive/My Drive/filename.csv', encoding='utf-8', index=False)"
      ],
      "metadata": {
        "id": "ocfOtHFcNtzv"
      },
      "execution_count": 72,
      "outputs": []
    }
  ]
}